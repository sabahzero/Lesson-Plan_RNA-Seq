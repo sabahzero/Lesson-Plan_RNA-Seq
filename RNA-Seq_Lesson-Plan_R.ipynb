{
 "cells": [
  {
   "cell_type": "code",
   "execution_count": 1,
   "metadata": {},
   "outputs": [],
   "source": [
    "# Lesson Plan, RNA-Seq (Mar 26, 2019)\n",
    "# R language\n",
    "# Written by Sabah Ul-Hasan\n",
    "\n",
    "# Goals\n",
    "# In 2-4   i. Upload and view the data \n",
    "# In 5-13  ii. Merge biological replicates into one dataset \n",
    "# In 14    iii. Produce a bar chart of up- and down- regulated ntar genes\n",
    "# In 15    Modify visualization of the bar chart, and save\n",
    "\n",
    "# In 16    Time Point 3 (5 min)"
   ]
  },
  {
   "cell_type": "code",
   "execution_count": 2,
   "metadata": {},
   "outputs": [
    {
     "name": "stdout",
     "output_type": "stream",
     "text": [
      "[1] \"CAY540_Rep1\"\n"
     ]
    },
    {
     "data": {
      "text/html": [
       "<table>\n",
       "<thead><tr><th scope=col>X</th><th scope=col>DEA_Sexual_Biofilms_Clinical_Isolates_CAY540_1.FWD_C_albicans__SC5314__</th><th scope=col>DEA_Sexual_Biofilms_Clinical_Isolates_CAY540P_1.FWD_C_albicans__SC5314__</th></tr></thead>\n",
       "<tbody>\n",
       "\t<tr><td>ERCC-00002</td><td>0         </td><td>0         </td></tr>\n",
       "\t<tr><td>ERCC-00003</td><td>0         </td><td>0         </td></tr>\n",
       "\t<tr><td>ERCC-00004</td><td>0         </td><td>0         </td></tr>\n",
       "\t<tr><td>ERCC-00009</td><td>0         </td><td>0         </td></tr>\n",
       "\t<tr><td>ERCC-00012</td><td>0         </td><td>0         </td></tr>\n",
       "\t<tr><td>ERCC-00013</td><td>0         </td><td>0         </td></tr>\n",
       "</tbody>\n",
       "</table>\n"
      ],
      "text/latex": [
       "\\begin{tabular}{r|lll}\n",
       " X & DEA\\_Sexual\\_Biofilms\\_Clinical\\_Isolates\\_CAY540\\_1.FWD\\_C\\_albicans\\_\\_SC5314\\_\\_ & DEA\\_Sexual\\_Biofilms\\_Clinical\\_Isolates\\_CAY540P\\_1.FWD\\_C\\_albicans\\_\\_SC5314\\_\\_\\\\\n",
       "\\hline\n",
       "\t ERCC-00002 & 0          & 0         \\\\\n",
       "\t ERCC-00003 & 0          & 0         \\\\\n",
       "\t ERCC-00004 & 0          & 0         \\\\\n",
       "\t ERCC-00009 & 0          & 0         \\\\\n",
       "\t ERCC-00012 & 0          & 0         \\\\\n",
       "\t ERCC-00013 & 0          & 0         \\\\\n",
       "\\end{tabular}\n"
      ],
      "text/markdown": [
       "\n",
       "X | DEA_Sexual_Biofilms_Clinical_Isolates_CAY540_1.FWD_C_albicans__SC5314__ | DEA_Sexual_Biofilms_Clinical_Isolates_CAY540P_1.FWD_C_albicans__SC5314__ | \n",
       "|---|---|---|---|---|---|\n",
       "| ERCC-00002 | 0          | 0          | \n",
       "| ERCC-00003 | 0          | 0          | \n",
       "| ERCC-00004 | 0          | 0          | \n",
       "| ERCC-00009 | 0          | 0          | \n",
       "| ERCC-00012 | 0          | 0          | \n",
       "| ERCC-00013 | 0          | 0          | \n",
       "\n",
       "\n"
      ],
      "text/plain": [
       "  X         \n",
       "1 ERCC-00002\n",
       "2 ERCC-00003\n",
       "3 ERCC-00004\n",
       "4 ERCC-00009\n",
       "5 ERCC-00012\n",
       "6 ERCC-00013\n",
       "  DEA_Sexual_Biofilms_Clinical_Isolates_CAY540_1.FWD_C_albicans__SC5314__\n",
       "1 0                                                                      \n",
       "2 0                                                                      \n",
       "3 0                                                                      \n",
       "4 0                                                                      \n",
       "5 0                                                                      \n",
       "6 0                                                                      \n",
       "  DEA_Sexual_Biofilms_Clinical_Isolates_CAY540P_1.FWD_C_albicans__SC5314__\n",
       "1 0                                                                       \n",
       "2 0                                                                       \n",
       "3 0                                                                       \n",
       "4 0                                                                       \n",
       "5 0                                                                       \n",
       "6 0                                                                       "
      ]
     },
     "metadata": {},
     "output_type": "display_data"
    }
   ],
   "source": [
    "# i. Upload and view the data\n",
    "\n",
    "library(curl) # This function calls the curl package, which allows us the ability to download data from online \n",
    "\n",
    "# The read.csv function reads in our data. In this case, two biological replicates for CAY540\n",
    "# Your file must be in .csv format to load\n",
    "CAY540_Rep1 = read.csv(curl(\"https://raw.githubusercontent.com/sabahzero/Nobile-HerndayLabs_BioinformaticsWorkshop_Feb19-2019/master/Data_RNA-Seq_DE-Output/normalized_counts_CAY540_Rep1.csv\"))\n",
    "CAY540_Rep2 = read.csv(curl(\"https://raw.githubusercontent.com/sabahzero/Nobile-HerndayLabs_BioinformaticsWorkshop_Feb19-2019/master/Data_RNA-Seq_DE-Output/normalized_counts_CAY540_Rep2.csv\"))\n",
    "\n",
    "# Let's say we don't have a GitHub account for our data. \n",
    "# Guess what! Since we also uploaded this repository directly in our notebook, we can load it through this route\n",
    "# Notice the difference in path inside of the \"\"\n",
    "CAY540_Rep1_computer = read.csv(\"~/Desktop/Nobile-HerndayLabs_BioinformaticsWorkshop_Feb19-2019/Data_RNA-Seq_DE-Output/normalized_counts_CAY540_Rep1.csv\")\n",
    "\n",
    "# Lets look at these data\n",
    "print(\"CAY540_Rep1\")\n",
    "head(CAY540_Rep1) # The head function shows the first five rows of our datasheet"
   ]
  },
  {
   "cell_type": "code",
   "execution_count": 3,
   "metadata": {},
   "outputs": [
    {
     "name": "stdout",
     "output_type": "stream",
     "text": [
      "[1] \"CAY540_Rep2\"\n"
     ]
    },
    {
     "data": {
      "text/html": [
       "<table>\n",
       "<thead><tr><th scope=col>X</th><th scope=col>DEA_Sexual_Biofilms_Clinical_Isolates_CAY540_2.FWD_C_albicans__SC5314__</th><th scope=col>DEA_Sexual_Biofilms_Clinical_Isolates_CAY540P_2.FWD_C_albicans__SC5314__</th></tr></thead>\n",
       "<tbody>\n",
       "\t<tr><td>ERCC-00002</td><td>0         </td><td>0         </td></tr>\n",
       "\t<tr><td>ERCC-00003</td><td>0         </td><td>0         </td></tr>\n",
       "\t<tr><td>ERCC-00004</td><td>0         </td><td>0         </td></tr>\n",
       "\t<tr><td>ERCC-00009</td><td>0         </td><td>0         </td></tr>\n",
       "\t<tr><td>ERCC-00012</td><td>0         </td><td>0         </td></tr>\n",
       "\t<tr><td>ERCC-00013</td><td>0         </td><td>0         </td></tr>\n",
       "</tbody>\n",
       "</table>\n"
      ],
      "text/latex": [
       "\\begin{tabular}{r|lll}\n",
       " X & DEA\\_Sexual\\_Biofilms\\_Clinical\\_Isolates\\_CAY540\\_2.FWD\\_C\\_albicans\\_\\_SC5314\\_\\_ & DEA\\_Sexual\\_Biofilms\\_Clinical\\_Isolates\\_CAY540P\\_2.FWD\\_C\\_albicans\\_\\_SC5314\\_\\_\\\\\n",
       "\\hline\n",
       "\t ERCC-00002 & 0          & 0         \\\\\n",
       "\t ERCC-00003 & 0          & 0         \\\\\n",
       "\t ERCC-00004 & 0          & 0         \\\\\n",
       "\t ERCC-00009 & 0          & 0         \\\\\n",
       "\t ERCC-00012 & 0          & 0         \\\\\n",
       "\t ERCC-00013 & 0          & 0         \\\\\n",
       "\\end{tabular}\n"
      ],
      "text/markdown": [
       "\n",
       "X | DEA_Sexual_Biofilms_Clinical_Isolates_CAY540_2.FWD_C_albicans__SC5314__ | DEA_Sexual_Biofilms_Clinical_Isolates_CAY540P_2.FWD_C_albicans__SC5314__ | \n",
       "|---|---|---|---|---|---|\n",
       "| ERCC-00002 | 0          | 0          | \n",
       "| ERCC-00003 | 0          | 0          | \n",
       "| ERCC-00004 | 0          | 0          | \n",
       "| ERCC-00009 | 0          | 0          | \n",
       "| ERCC-00012 | 0          | 0          | \n",
       "| ERCC-00013 | 0          | 0          | \n",
       "\n",
       "\n"
      ],
      "text/plain": [
       "  X         \n",
       "1 ERCC-00002\n",
       "2 ERCC-00003\n",
       "3 ERCC-00004\n",
       "4 ERCC-00009\n",
       "5 ERCC-00012\n",
       "6 ERCC-00013\n",
       "  DEA_Sexual_Biofilms_Clinical_Isolates_CAY540_2.FWD_C_albicans__SC5314__\n",
       "1 0                                                                      \n",
       "2 0                                                                      \n",
       "3 0                                                                      \n",
       "4 0                                                                      \n",
       "5 0                                                                      \n",
       "6 0                                                                      \n",
       "  DEA_Sexual_Biofilms_Clinical_Isolates_CAY540P_2.FWD_C_albicans__SC5314__\n",
       "1 0                                                                       \n",
       "2 0                                                                       \n",
       "3 0                                                                       \n",
       "4 0                                                                       \n",
       "5 0                                                                       \n",
       "6 0                                                                       "
      ]
     },
     "metadata": {},
     "output_type": "display_data"
    }
   ],
   "source": [
    "print(\"CAY540_Rep2\") # This is the view of our second replicate\n",
    "head(CAY540_Rep2) "
   ]
  },
  {
   "cell_type": "code",
   "execution_count": 4,
   "metadata": {},
   "outputs": [],
   "source": [
    "# What do these data mean? Explain the 3 columns and rows\n",
    "\n",
    "# We have three variables. Variable or column X is the gene name\n",
    "# These genes are annotated via DEseq\n",
    "\n",
    "# The 2nd column or variable is our control, the 3rd column or variable is our treatment\n",
    "# Which genes are down-regulated vs up-regulated from our control? "
   ]
  },
  {
   "cell_type": "code",
   "execution_count": 5,
   "metadata": {},
   "outputs": [
    {
     "name": "stdout",
     "output_type": "stream",
     "text": [
      "[1] \"Updated CAY540_Rep1\"\n"
     ]
    },
    {
     "data": {
      "text/html": [
       "<table>\n",
       "<thead><tr><th scope=col>Gene</th><th scope=col>Control_Rep1</th><th scope=col>Test_Rep1</th></tr></thead>\n",
       "<tbody>\n",
       "\t<tr><td>ERCC-00002</td><td>0         </td><td>0         </td></tr>\n",
       "\t<tr><td>ERCC-00003</td><td>0         </td><td>0         </td></tr>\n",
       "\t<tr><td>ERCC-00004</td><td>0         </td><td>0         </td></tr>\n",
       "\t<tr><td>ERCC-00009</td><td>0         </td><td>0         </td></tr>\n",
       "\t<tr><td>ERCC-00012</td><td>0         </td><td>0         </td></tr>\n",
       "\t<tr><td>ERCC-00013</td><td>0         </td><td>0         </td></tr>\n",
       "</tbody>\n",
       "</table>\n"
      ],
      "text/latex": [
       "\\begin{tabular}{r|lll}\n",
       " Gene & Control\\_Rep1 & Test\\_Rep1\\\\\n",
       "\\hline\n",
       "\t ERCC-00002 & 0          & 0         \\\\\n",
       "\t ERCC-00003 & 0          & 0         \\\\\n",
       "\t ERCC-00004 & 0          & 0         \\\\\n",
       "\t ERCC-00009 & 0          & 0         \\\\\n",
       "\t ERCC-00012 & 0          & 0         \\\\\n",
       "\t ERCC-00013 & 0          & 0         \\\\\n",
       "\\end{tabular}\n"
      ],
      "text/markdown": [
       "\n",
       "Gene | Control_Rep1 | Test_Rep1 | \n",
       "|---|---|---|---|---|---|\n",
       "| ERCC-00002 | 0          | 0          | \n",
       "| ERCC-00003 | 0          | 0          | \n",
       "| ERCC-00004 | 0          | 0          | \n",
       "| ERCC-00009 | 0          | 0          | \n",
       "| ERCC-00012 | 0          | 0          | \n",
       "| ERCC-00013 | 0          | 0          | \n",
       "\n",
       "\n"
      ],
      "text/plain": [
       "  Gene       Control_Rep1 Test_Rep1\n",
       "1 ERCC-00002 0            0        \n",
       "2 ERCC-00003 0            0        \n",
       "3 ERCC-00004 0            0        \n",
       "4 ERCC-00009 0            0        \n",
       "5 ERCC-00012 0            0        \n",
       "6 ERCC-00013 0            0        "
      ]
     },
     "metadata": {},
     "output_type": "display_data"
    },
    {
     "name": "stdout",
     "output_type": "stream",
     "text": [
      "[1] \"Updated CAY540_Rep2\"\n"
     ]
    },
    {
     "data": {
      "text/html": [
       "<table>\n",
       "<thead><tr><th scope=col>Gene</th><th scope=col>Control_Rep2</th><th scope=col>Test_Rep2</th></tr></thead>\n",
       "<tbody>\n",
       "\t<tr><td>ERCC-00002</td><td>0         </td><td>0         </td></tr>\n",
       "\t<tr><td>ERCC-00003</td><td>0         </td><td>0         </td></tr>\n",
       "\t<tr><td>ERCC-00004</td><td>0         </td><td>0         </td></tr>\n",
       "\t<tr><td>ERCC-00009</td><td>0         </td><td>0         </td></tr>\n",
       "\t<tr><td>ERCC-00012</td><td>0         </td><td>0         </td></tr>\n",
       "\t<tr><td>ERCC-00013</td><td>0         </td><td>0         </td></tr>\n",
       "</tbody>\n",
       "</table>\n"
      ],
      "text/latex": [
       "\\begin{tabular}{r|lll}\n",
       " Gene & Control\\_Rep2 & Test\\_Rep2\\\\\n",
       "\\hline\n",
       "\t ERCC-00002 & 0          & 0         \\\\\n",
       "\t ERCC-00003 & 0          & 0         \\\\\n",
       "\t ERCC-00004 & 0          & 0         \\\\\n",
       "\t ERCC-00009 & 0          & 0         \\\\\n",
       "\t ERCC-00012 & 0          & 0         \\\\\n",
       "\t ERCC-00013 & 0          & 0         \\\\\n",
       "\\end{tabular}\n"
      ],
      "text/markdown": [
       "\n",
       "Gene | Control_Rep2 | Test_Rep2 | \n",
       "|---|---|---|---|---|---|\n",
       "| ERCC-00002 | 0          | 0          | \n",
       "| ERCC-00003 | 0          | 0          | \n",
       "| ERCC-00004 | 0          | 0          | \n",
       "| ERCC-00009 | 0          | 0          | \n",
       "| ERCC-00012 | 0          | 0          | \n",
       "| ERCC-00013 | 0          | 0          | \n",
       "\n",
       "\n"
      ],
      "text/plain": [
       "  Gene       Control_Rep2 Test_Rep2\n",
       "1 ERCC-00002 0            0        \n",
       "2 ERCC-00003 0            0        \n",
       "3 ERCC-00004 0            0        \n",
       "4 ERCC-00009 0            0        \n",
       "5 ERCC-00012 0            0        \n",
       "6 ERCC-00013 0            0        "
      ]
     },
     "metadata": {},
     "output_type": "display_data"
    }
   ],
   "source": [
    "# ii. Merge biological replicates into one dataset\n",
    "\n",
    "# We want the mean and standard deviation \n",
    "# Let's relabel our columns for both datasets so we can merge them\n",
    "library(data.table) # We will need this package to use the re-name function\n",
    "\n",
    "names(CAY540_Rep1)[1]<-\"Gene\" # Since the column names are so long, we can re-label by column number \n",
    "names(CAY540_Rep2)[1]<-\"Gene\" # Replicate 2\n",
    "\n",
    "names(CAY540_Rep1)[2]<-\"Control_Rep1\" # We want to keep these column names unique so we can show the variation\n",
    "names(CAY540_Rep2)[2]<-\"Control_Rep2\"  \n",
    "\n",
    "names(CAY540_Rep1)[3]<-\"Test_Rep1\" \n",
    "names(CAY540_Rep2)[3]<-\"Test_Rep2\"  \n",
    "\n",
    "# Let's check that both datasets have the same column names\n",
    "print(\"Updated CAY540_Rep1\")\n",
    "head(CAY540_Rep1)\n",
    "print(\"Updated CAY540_Rep2\")\n",
    "head(CAY540_Rep2)"
   ]
  },
  {
   "cell_type": "code",
   "execution_count": 6,
   "metadata": {},
   "outputs": [
    {
     "data": {
      "text/html": [
       "<table>\n",
       "<thead><tr><th scope=col>Gene</th><th scope=col>Control_Rep1</th><th scope=col>Test_Rep1</th><th scope=col>Control_Rep2</th><th scope=col>Test_Rep2</th></tr></thead>\n",
       "<tbody>\n",
       "\t<tr><td>ERCC-00002</td><td>0         </td><td>0         </td><td>0         </td><td>0         </td></tr>\n",
       "\t<tr><td>ERCC-00003</td><td>0         </td><td>0         </td><td>0         </td><td>0         </td></tr>\n",
       "\t<tr><td>ERCC-00004</td><td>0         </td><td>0         </td><td>0         </td><td>0         </td></tr>\n",
       "\t<tr><td>ERCC-00009</td><td>0         </td><td>0         </td><td>0         </td><td>0         </td></tr>\n",
       "\t<tr><td>ERCC-00012</td><td>0         </td><td>0         </td><td>0         </td><td>0         </td></tr>\n",
       "\t<tr><td>ERCC-00013</td><td>0         </td><td>0         </td><td>0         </td><td>0         </td></tr>\n",
       "</tbody>\n",
       "</table>\n"
      ],
      "text/latex": [
       "\\begin{tabular}{r|lllll}\n",
       " Gene & Control\\_Rep1 & Test\\_Rep1 & Control\\_Rep2 & Test\\_Rep2\\\\\n",
       "\\hline\n",
       "\t ERCC-00002 & 0          & 0          & 0          & 0         \\\\\n",
       "\t ERCC-00003 & 0          & 0          & 0          & 0         \\\\\n",
       "\t ERCC-00004 & 0          & 0          & 0          & 0         \\\\\n",
       "\t ERCC-00009 & 0          & 0          & 0          & 0         \\\\\n",
       "\t ERCC-00012 & 0          & 0          & 0          & 0         \\\\\n",
       "\t ERCC-00013 & 0          & 0          & 0          & 0         \\\\\n",
       "\\end{tabular}\n"
      ],
      "text/markdown": [
       "\n",
       "Gene | Control_Rep1 | Test_Rep1 | Control_Rep2 | Test_Rep2 | \n",
       "|---|---|---|---|---|---|\n",
       "| ERCC-00002 | 0          | 0          | 0          | 0          | \n",
       "| ERCC-00003 | 0          | 0          | 0          | 0          | \n",
       "| ERCC-00004 | 0          | 0          | 0          | 0          | \n",
       "| ERCC-00009 | 0          | 0          | 0          | 0          | \n",
       "| ERCC-00012 | 0          | 0          | 0          | 0          | \n",
       "| ERCC-00013 | 0          | 0          | 0          | 0          | \n",
       "\n",
       "\n"
      ],
      "text/plain": [
       "  Gene       Control_Rep1 Test_Rep1 Control_Rep2 Test_Rep2\n",
       "1 ERCC-00002 0            0         0            0        \n",
       "2 ERCC-00003 0            0         0            0        \n",
       "3 ERCC-00004 0            0         0            0        \n",
       "4 ERCC-00009 0            0         0            0        \n",
       "5 ERCC-00012 0            0         0            0        \n",
       "6 ERCC-00013 0            0         0            0        "
      ]
     },
     "metadata": {},
     "output_type": "display_data"
    }
   ],
   "source": [
    "# Now merge the dataset by Gene name\n",
    "CAY540 <- merge(CAY540_Rep1, CAY540_Rep2, by=\"Gene\") # Combines datasets into one \n",
    "head(CAY540)\n",
    "\n",
    "# We can write this as a .csv and play with it through the API on http://microscopebioinformatics.org\n",
    "write.csv(CAY540, file = \"CAY540.csv\")"
   ]
  },
  {
   "cell_type": "code",
   "execution_count": 7,
   "metadata": {},
   "outputs": [
    {
     "data": {
      "text/html": [
       "<table>\n",
       "<thead><tr><th></th><th scope=col>Gene</th><th scope=col>Control_Rep1</th><th scope=col>Test_Rep1</th><th scope=col>Control_Rep2</th><th scope=col>Test_Rep2</th></tr></thead>\n",
       "<tbody>\n",
       "\t<tr><th scope=row>18</th><td>ERCC-00035        </td><td>  1.052852        </td><td>  0.000000        </td><td>  0.000000        </td><td>  0.000000        </td></tr>\n",
       "\t<tr><th scope=row>94</th><td>its2              </td><td>245.314449        </td><td>203.257493        </td><td>280.117289        </td><td>381.697255        </td></tr>\n",
       "\t<tr><th scope=row>96</th><td>NOVEL-Ca21chr1-002</td><td>214.781750        </td><td> 93.080534        </td><td> 72.151423        </td><td> 90.476386        </td></tr>\n",
       "\t<tr><th scope=row>98</th><td>NOVEL-Ca21chr1-004</td><td>  9.475665        </td><td> 14.247021        </td><td>  4.244201        </td><td>  6.597236        </td></tr>\n",
       "\t<tr><th scope=row>99</th><td>NOVEL-Ca21chr1-005</td><td>  7.369962        </td><td> 10.447815        </td><td> 11.671554        </td><td>  5.654774        </td></tr>\n",
       "\t<tr><th scope=row>100</th><td>NOVEL-Ca21chr1-007</td><td>  5.264259        </td><td>  4.749007        </td><td>  4.244201        </td><td>  3.769849        </td></tr>\n",
       "</tbody>\n",
       "</table>\n"
      ],
      "text/latex": [
       "\\begin{tabular}{r|lllll}\n",
       "  & Gene & Control\\_Rep1 & Test\\_Rep1 & Control\\_Rep2 & Test\\_Rep2\\\\\n",
       "\\hline\n",
       "\t18 & ERCC-00035         &   1.052852         &   0.000000         &   0.000000         &   0.000000        \\\\\n",
       "\t94 & its2               & 245.314449         & 203.257493         & 280.117289         & 381.697255        \\\\\n",
       "\t96 & NOVEL-Ca21chr1-002 & 214.781750         &  93.080534         &  72.151423         &  90.476386        \\\\\n",
       "\t98 & NOVEL-Ca21chr1-004 &   9.475665         &  14.247021         &   4.244201         &   6.597236        \\\\\n",
       "\t99 & NOVEL-Ca21chr1-005 &   7.369962         &  10.447815         &  11.671554         &   5.654774        \\\\\n",
       "\t100 & NOVEL-Ca21chr1-007 &   5.264259         &   4.749007         &   4.244201         &   3.769849        \\\\\n",
       "\\end{tabular}\n"
      ],
      "text/markdown": [
       "\n",
       "| <!--/--> | Gene | Control_Rep1 | Test_Rep1 | Control_Rep2 | Test_Rep2 | \n",
       "|---|---|---|---|---|---|\n",
       "| 18 | ERCC-00035         |   1.052852         |   0.000000         |   0.000000         |   0.000000         | \n",
       "| 94 | its2               | 245.314449         | 203.257493         | 280.117289         | 381.697255         | \n",
       "| 96 | NOVEL-Ca21chr1-002 | 214.781750         |  93.080534         |  72.151423         |  90.476386         | \n",
       "| 98 | NOVEL-Ca21chr1-004 |   9.475665         |  14.247021         |   4.244201         |   6.597236         | \n",
       "| 99 | NOVEL-Ca21chr1-005 |   7.369962         |  10.447815         |  11.671554         |   5.654774         | \n",
       "| 100 | NOVEL-Ca21chr1-007 |   5.264259         |   4.749007         |   4.244201         |   3.769849         | \n",
       "\n",
       "\n"
      ],
      "text/plain": [
       "    Gene               Control_Rep1 Test_Rep1  Control_Rep2 Test_Rep2 \n",
       "18  ERCC-00035           1.052852     0.000000   0.000000     0.000000\n",
       "94  its2               245.314449   203.257493 280.117289   381.697255\n",
       "96  NOVEL-Ca21chr1-002 214.781750    93.080534  72.151423    90.476386\n",
       "98  NOVEL-Ca21chr1-004   9.475665    14.247021   4.244201     6.597236\n",
       "99  NOVEL-Ca21chr1-005   7.369962    10.447815  11.671554     5.654774\n",
       "100 NOVEL-Ca21chr1-007   5.264259     4.749007   4.244201     3.769849"
      ]
     },
     "metadata": {},
     "output_type": "display_data"
    }
   ],
   "source": [
    "# Let's clean up the data a little by removing genes where all 4 columns = 0 and make that a new dataset\n",
    "CAY540_Positive = CAY540[!(CAY540$Control_Rep1==0 & CAY540$Test_Rep1==0 & CAY540$Control_Rep1==0 & CAY540$Test_Rep2==0),]\n",
    "head(CAY540_Positive) # Notice this creates a new column numbering the resulting genes (left)"
   ]
  },
  {
   "cell_type": "code",
   "execution_count": 8,
   "metadata": {},
   "outputs": [
    {
     "data": {
      "text/html": [
       "<table>\n",
       "<thead><tr><th></th><th scope=col>Gene</th><th scope=col>Control_Rep1</th><th scope=col>Test_Rep1</th><th scope=col>Control_Rep2</th><th scope=col>Test_Rep2</th><th scope=col>Rep1</th><th scope=col>Rep2</th></tr></thead>\n",
       "<tbody>\n",
       "\t<tr><th scope=row>18</th><td>ERCC-00035        </td><td>  1.052852        </td><td>  0.000000        </td><td>  0.000000        </td><td>  0.000000        </td><td>  -1.0528517      </td><td>  0.0000000       </td></tr>\n",
       "\t<tr><th scope=row>94</th><td>its2              </td><td>245.314449        </td><td>203.257493        </td><td>280.117289        </td><td>381.697255        </td><td> -42.0569563      </td><td>101.5799659       </td></tr>\n",
       "\t<tr><th scope=row>96</th><td>NOVEL-Ca21chr1-002</td><td>214.781750        </td><td> 93.080534        </td><td> 72.151423        </td><td> 90.476386        </td><td>-121.7012155      </td><td> 18.3249634       </td></tr>\n",
       "\t<tr><th scope=row>98</th><td>NOVEL-Ca21chr1-004</td><td>  9.475665        </td><td> 14.247021        </td><td>  4.244201        </td><td>  6.597236        </td><td>   4.7713551      </td><td>  2.3530352       </td></tr>\n",
       "\t<tr><th scope=row>99</th><td>NOVEL-Ca21chr1-005</td><td>  7.369962        </td><td> 10.447815        </td><td> 11.671554        </td><td>  5.654774        </td><td>   3.0778531      </td><td> -6.0167795       </td></tr>\n",
       "\t<tr><th scope=row>100</th><td>NOVEL-Ca21chr1-007</td><td>  5.264259        </td><td>  4.749007        </td><td>  4.244201        </td><td>  3.769849        </td><td>  -0.5152517      </td><td> -0.4743519       </td></tr>\n",
       "</tbody>\n",
       "</table>\n"
      ],
      "text/latex": [
       "\\begin{tabular}{r|lllllll}\n",
       "  & Gene & Control\\_Rep1 & Test\\_Rep1 & Control\\_Rep2 & Test\\_Rep2 & Rep1 & Rep2\\\\\n",
       "\\hline\n",
       "\t18 & ERCC-00035         &   1.052852         &   0.000000         &   0.000000         &   0.000000         &   -1.0528517       &   0.0000000       \\\\\n",
       "\t94 & its2               & 245.314449         & 203.257493         & 280.117289         & 381.697255         &  -42.0569563       & 101.5799659       \\\\\n",
       "\t96 & NOVEL-Ca21chr1-002 & 214.781750         &  93.080534         &  72.151423         &  90.476386         & -121.7012155       &  18.3249634       \\\\\n",
       "\t98 & NOVEL-Ca21chr1-004 &   9.475665         &  14.247021         &   4.244201         &   6.597236         &    4.7713551       &   2.3530352       \\\\\n",
       "\t99 & NOVEL-Ca21chr1-005 &   7.369962         &  10.447815         &  11.671554         &   5.654774         &    3.0778531       &  -6.0167795       \\\\\n",
       "\t100 & NOVEL-Ca21chr1-007 &   5.264259         &   4.749007         &   4.244201         &   3.769849         &   -0.5152517       &  -0.4743519       \\\\\n",
       "\\end{tabular}\n"
      ],
      "text/markdown": [
       "\n",
       "| <!--/--> | Gene | Control_Rep1 | Test_Rep1 | Control_Rep2 | Test_Rep2 | Rep1 | Rep2 | \n",
       "|---|---|---|---|---|---|\n",
       "| 18 | ERCC-00035         |   1.052852         |   0.000000         |   0.000000         |   0.000000         |   -1.0528517       |   0.0000000        | \n",
       "| 94 | its2               | 245.314449         | 203.257493         | 280.117289         | 381.697255         |  -42.0569563       | 101.5799659        | \n",
       "| 96 | NOVEL-Ca21chr1-002 | 214.781750         |  93.080534         |  72.151423         |  90.476386         | -121.7012155       |  18.3249634        | \n",
       "| 98 | NOVEL-Ca21chr1-004 |   9.475665         |  14.247021         |   4.244201         |   6.597236         |    4.7713551       |   2.3530352        | \n",
       "| 99 | NOVEL-Ca21chr1-005 |   7.369962         |  10.447815         |  11.671554         |   5.654774         |    3.0778531       |  -6.0167795        | \n",
       "| 100 | NOVEL-Ca21chr1-007 |   5.264259         |   4.749007         |   4.244201         |   3.769849         |   -0.5152517       |  -0.4743519        | \n",
       "\n",
       "\n"
      ],
      "text/plain": [
       "    Gene               Control_Rep1 Test_Rep1  Control_Rep2 Test_Rep2 \n",
       "18  ERCC-00035           1.052852     0.000000   0.000000     0.000000\n",
       "94  its2               245.314449   203.257493 280.117289   381.697255\n",
       "96  NOVEL-Ca21chr1-002 214.781750    93.080534  72.151423    90.476386\n",
       "98  NOVEL-Ca21chr1-004   9.475665    14.247021   4.244201     6.597236\n",
       "99  NOVEL-Ca21chr1-005   7.369962    10.447815  11.671554     5.654774\n",
       "100 NOVEL-Ca21chr1-007   5.264259     4.749007   4.244201     3.769849\n",
       "    Rep1         Rep2       \n",
       "18    -1.0528517   0.0000000\n",
       "94   -42.0569563 101.5799659\n",
       "96  -121.7012155  18.3249634\n",
       "98     4.7713551   2.3530352\n",
       "99     3.0778531  -6.0167795\n",
       "100   -0.5152517  -0.4743519"
      ]
     },
     "metadata": {},
     "output_type": "display_data"
    }
   ],
   "source": [
    "# Let's create two columns that show the subtracted result for test-control as new columns\n",
    "CAY540_Positive$Rep1 = CAY540_Positive$Test_Rep1 - CAY540_Positive$Control_Rep1 # Treatment - control  for rep 1\n",
    "CAY540_Positive$Rep2 = CAY540_Positive$Test_Rep2 - CAY540_Positive$Control_Rep2\n",
    "\n",
    "head(CAY540_Positive) # ta-da! "
   ]
  },
  {
   "cell_type": "code",
   "execution_count": 9,
   "metadata": {},
   "outputs": [
    {
     "data": {
      "text/html": [
       "<table>\n",
       "<thead><tr><th></th><th scope=col>Gene</th><th scope=col>Control_Rep1</th><th scope=col>Test_Rep1</th><th scope=col>Control_Rep2</th><th scope=col>Test_Rep2</th><th scope=col>Rep1</th><th scope=col>Rep2</th><th scope=col>Rep_mean</th><th scope=col>Rep_SDev</th></tr></thead>\n",
       "<tbody>\n",
       "\t<tr><th scope=row>18</th><td>ERCC-00035        </td><td>  1.052852        </td><td>  0.000000        </td><td>  0.000000        </td><td>  0.000000        </td><td>  -1.0528517      </td><td>  0.0000000       </td><td> -0.5264259       </td><td> 0.37223929       </td></tr>\n",
       "\t<tr><th scope=row>94</th><td>its2              </td><td>245.314449        </td><td>203.257493        </td><td>280.117289        </td><td>381.697255        </td><td> -42.0569563      </td><td>101.5799659       </td><td> 29.7615048       </td><td>50.78332087       </td></tr>\n",
       "\t<tr><th scope=row>96</th><td>NOVEL-Ca21chr1-002</td><td>214.781750        </td><td> 93.080534        </td><td> 72.151423        </td><td> 90.476386        </td><td>-121.7012155      </td><td> 18.3249634       </td><td>-51.6881260       </td><td>49.50673033       </td></tr>\n",
       "\t<tr><th scope=row>98</th><td>NOVEL-Ca21chr1-004</td><td>  9.475665        </td><td> 14.247021        </td><td>  4.244201        </td><td>  6.597236        </td><td>   4.7713551      </td><td>  2.3530352       </td><td>  3.5621951       </td><td> 0.85500522       </td></tr>\n",
       "\t<tr><th scope=row>99</th><td>NOVEL-Ca21chr1-005</td><td>  7.369962        </td><td> 10.447815        </td><td> 11.671554        </td><td>  5.654774        </td><td>   3.0778531      </td><td> -6.0167795       </td><td> -1.4694632       </td><td> 3.21543820       </td></tr>\n",
       "\t<tr><th scope=row>100</th><td>NOVEL-Ca21chr1-007</td><td>  5.264259        </td><td>  4.749007        </td><td>  4.244201        </td><td>  3.769849        </td><td>  -0.5152517      </td><td> -0.4743519       </td><td> -0.4948018       </td><td> 0.01446027       </td></tr>\n",
       "</tbody>\n",
       "</table>\n"
      ],
      "text/latex": [
       "\\begin{tabular}{r|lllllllll}\n",
       "  & Gene & Control\\_Rep1 & Test\\_Rep1 & Control\\_Rep2 & Test\\_Rep2 & Rep1 & Rep2 & Rep\\_mean & Rep\\_SDev\\\\\n",
       "\\hline\n",
       "\t18 & ERCC-00035         &   1.052852         &   0.000000         &   0.000000         &   0.000000         &   -1.0528517       &   0.0000000        &  -0.5264259        &  0.37223929       \\\\\n",
       "\t94 & its2               & 245.314449         & 203.257493         & 280.117289         & 381.697255         &  -42.0569563       & 101.5799659        &  29.7615048        & 50.78332087       \\\\\n",
       "\t96 & NOVEL-Ca21chr1-002 & 214.781750         &  93.080534         &  72.151423         &  90.476386         & -121.7012155       &  18.3249634        & -51.6881260        & 49.50673033       \\\\\n",
       "\t98 & NOVEL-Ca21chr1-004 &   9.475665         &  14.247021         &   4.244201         &   6.597236         &    4.7713551       &   2.3530352        &   3.5621951        &  0.85500522       \\\\\n",
       "\t99 & NOVEL-Ca21chr1-005 &   7.369962         &  10.447815         &  11.671554         &   5.654774         &    3.0778531       &  -6.0167795        &  -1.4694632        &  3.21543820       \\\\\n",
       "\t100 & NOVEL-Ca21chr1-007 &   5.264259         &   4.749007         &   4.244201         &   3.769849         &   -0.5152517       &  -0.4743519        &  -0.4948018        &  0.01446027       \\\\\n",
       "\\end{tabular}\n"
      ],
      "text/markdown": [
       "\n",
       "| <!--/--> | Gene | Control_Rep1 | Test_Rep1 | Control_Rep2 | Test_Rep2 | Rep1 | Rep2 | Rep_mean | Rep_SDev | \n",
       "|---|---|---|---|---|---|\n",
       "| 18 | ERCC-00035         |   1.052852         |   0.000000         |   0.000000         |   0.000000         |   -1.0528517       |   0.0000000        |  -0.5264259        |  0.37223929        | \n",
       "| 94 | its2               | 245.314449         | 203.257493         | 280.117289         | 381.697255         |  -42.0569563       | 101.5799659        |  29.7615048        | 50.78332087        | \n",
       "| 96 | NOVEL-Ca21chr1-002 | 214.781750         |  93.080534         |  72.151423         |  90.476386         | -121.7012155       |  18.3249634        | -51.6881260        | 49.50673033        | \n",
       "| 98 | NOVEL-Ca21chr1-004 |   9.475665         |  14.247021         |   4.244201         |   6.597236         |    4.7713551       |   2.3530352        |   3.5621951        |  0.85500522        | \n",
       "| 99 | NOVEL-Ca21chr1-005 |   7.369962         |  10.447815         |  11.671554         |   5.654774         |    3.0778531       |  -6.0167795        |  -1.4694632        |  3.21543820        | \n",
       "| 100 | NOVEL-Ca21chr1-007 |   5.264259         |   4.749007         |   4.244201         |   3.769849         |   -0.5152517       |  -0.4743519        |  -0.4948018        |  0.01446027        | \n",
       "\n",
       "\n"
      ],
      "text/plain": [
       "    Gene               Control_Rep1 Test_Rep1  Control_Rep2 Test_Rep2 \n",
       "18  ERCC-00035           1.052852     0.000000   0.000000     0.000000\n",
       "94  its2               245.314449   203.257493 280.117289   381.697255\n",
       "96  NOVEL-Ca21chr1-002 214.781750    93.080534  72.151423    90.476386\n",
       "98  NOVEL-Ca21chr1-004   9.475665    14.247021   4.244201     6.597236\n",
       "99  NOVEL-Ca21chr1-005   7.369962    10.447815  11.671554     5.654774\n",
       "100 NOVEL-Ca21chr1-007   5.264259     4.749007   4.244201     3.769849\n",
       "    Rep1         Rep2        Rep_mean    Rep_SDev   \n",
       "18    -1.0528517   0.0000000  -0.5264259  0.37223929\n",
       "94   -42.0569563 101.5799659  29.7615048 50.78332087\n",
       "96  -121.7012155  18.3249634 -51.6881260 49.50673033\n",
       "98     4.7713551   2.3530352   3.5621951  0.85500522\n",
       "99     3.0778531  -6.0167795  -1.4694632  3.21543820\n",
       "100   -0.5152517  -0.4743519  -0.4948018  0.01446027"
      ]
     },
     "metadata": {},
     "output_type": "display_data"
    }
   ],
   "source": [
    "# Let's calculate the mean and standard deviation for these replicates\n",
    "CAY540_Positive$Rep_mean = rowMeans(CAY540_Positive[c('Rep1', 'Rep2')]) # calculate mean\n",
    "CAY540_Positive$Rep_SDev = apply(CAY540_Positive[,7:8], 1, sd) # calculate for 1 standard devation (+/-)\n",
    "\n",
    "head(CAY540_Positive)"
   ]
  },
  {
   "cell_type": "code",
   "execution_count": 10,
   "metadata": {},
   "outputs": [
    {
     "name": "stderr",
     "output_type": "stream",
     "text": [
      "── Attaching packages ─────────────────────────────────────── tidyverse 1.2.1 ──\n",
      "✔ ggplot2 3.0.0     ✔ purrr   0.2.5\n",
      "✔ tibble  1.4.2     ✔ dplyr   0.7.6\n",
      "✔ tidyr   0.8.1     ✔ stringr 1.3.1\n",
      "✔ readr   1.1.1     ✔ forcats 0.3.0\n",
      "── Conflicts ────────────────────────────────────────── tidyverse_conflicts() ──\n",
      "✖ dplyr::between()    masks data.table::between()\n",
      "✖ dplyr::filter()     masks stats::filter()\n",
      "✖ dplyr::first()      masks data.table::first()\n",
      "✖ dplyr::lag()        masks stats::lag()\n",
      "✖ dplyr::last()       masks data.table::last()\n",
      "✖ readr::parse_date() masks curl::parse_date()\n",
      "✖ purrr::transpose()  masks data.table::transpose()\n"
     ]
    },
    {
     "name": "stdout",
     "output_type": "stream",
     "text": [
      "[1] \"genes with a result that isn't 0:\"\n"
     ]
    },
    {
     "data": {
      "text/html": [
       "1000"
      ],
      "text/latex": [
       "1000"
      ],
      "text/markdown": [
       "1000"
      ],
      "text/plain": [
       "[1] 1000"
      ]
     },
     "metadata": {},
     "output_type": "display_data"
    },
    {
     "name": "stdout",
     "output_type": "stream",
     "text": [
      "[1] \"number of unique genes:\"\n"
     ]
    },
    {
     "data": {
      "text/html": [
       "1000"
      ],
      "text/latex": [
       "1000"
      ],
      "text/markdown": [
       "1000"
      ],
      "text/plain": [
       "[1] 1000"
      ]
     },
     "metadata": {},
     "output_type": "display_data"
    },
    {
     "data": {
      "text/html": [
       "<table>\n",
       "<thead><tr><th scope=col>Gene</th><th scope=col>Control_Rep1</th><th scope=col>Test_Rep1</th><th scope=col>Control_Rep2</th><th scope=col>Test_Rep2</th><th scope=col>Rep1</th><th scope=col>Rep2</th><th scope=col>Rep_mean</th><th scope=col>Rep_SDev</th><th scope=col>GeneNumber</th></tr></thead>\n",
       "<tbody>\n",
       "\t<tr><td>orf19.7402        </td><td>121.077947        </td><td>110.1769589       </td><td>89.128228         </td><td>78.2243756        </td><td>-10.9009882       </td><td>-10.9038526       </td><td>-10.9024204       </td><td>0.001012706       </td><td>1                 </td></tr>\n",
       "\t<tr><td>ntar_939          </td><td>  6.317110        </td><td>  7.5984110       </td><td>13.793654         </td><td>15.0793977        </td><td>  1.2813007       </td><td>  1.2857433       </td><td>  1.2835220       </td><td>0.001570723       </td><td>2                 </td></tr>\n",
       "\t<tr><td>orf19.5711        </td><td>  7.369962        </td><td>  8.5482123       </td><td> 6.366302         </td><td> 7.5396989        </td><td>  1.1782503       </td><td>  1.1733968       </td><td>  1.1758236       </td><td>0.001715966       </td><td>3                 </td></tr>\n",
       "\t<tr><td>orf19.6525        </td><td> 34.744107        </td><td> 40.8414589       </td><td>29.709409         </td><td>35.8135696        </td><td>  6.0973523       </td><td>  6.1041602       </td><td>  6.1007562       </td><td>0.002406937       </td><td>4                 </td></tr>\n",
       "\t<tr><td>NOVEL-Ca21chr2-014</td><td>  0.000000        </td><td>  0.9498014       </td><td> 0.000000         </td><td> 0.9424624        </td><td>  0.9498014       </td><td>  0.9424624       </td><td>  0.9461319       </td><td>0.002594733       </td><td>5                 </td></tr>\n",
       "\t<tr><td>NOVEL-Ca21chr6-030</td><td>  0.000000        </td><td>  0.9498014       </td><td> 0.000000         </td><td> 0.9424624        </td><td>  0.9498014       </td><td>  0.9424624       </td><td>  0.9461319       </td><td>0.002594733       </td><td>6                 </td></tr>\n",
       "</tbody>\n",
       "</table>\n"
      ],
      "text/latex": [
       "\\begin{tabular}{r|llllllllll}\n",
       " Gene & Control\\_Rep1 & Test\\_Rep1 & Control\\_Rep2 & Test\\_Rep2 & Rep1 & Rep2 & Rep\\_mean & Rep\\_SDev & GeneNumber\\\\\n",
       "\\hline\n",
       "\t orf19.7402         & 121.077947         & 110.1769589        & 89.128228          & 78.2243756         & -10.9009882        & -10.9038526        & -10.9024204        & 0.001012706        & 1                 \\\\\n",
       "\t ntar\\_939           &   6.317110           &   7.5984110          & 13.793654            & 15.0793977           &   1.2813007          &   1.2857433          &   1.2835220          & 0.001570723          & 2                   \\\\\n",
       "\t orf19.5711         &   7.369962         &   8.5482123        &  6.366302          &  7.5396989         &   1.1782503        &   1.1733968        &   1.1758236        & 0.001715966        & 3                 \\\\\n",
       "\t orf19.6525         &  34.744107         &  40.8414589        & 29.709409          & 35.8135696         &   6.0973523        &   6.1041602        &   6.1007562        & 0.002406937        & 4                 \\\\\n",
       "\t NOVEL-Ca21chr2-014 &   0.000000         &   0.9498014        &  0.000000          &  0.9424624         &   0.9498014        &   0.9424624        &   0.9461319        & 0.002594733        & 5                 \\\\\n",
       "\t NOVEL-Ca21chr6-030 &   0.000000         &   0.9498014        &  0.000000          &  0.9424624         &   0.9498014        &   0.9424624        &   0.9461319        & 0.002594733        & 6                 \\\\\n",
       "\\end{tabular}\n"
      ],
      "text/markdown": [
       "\n",
       "Gene | Control_Rep1 | Test_Rep1 | Control_Rep2 | Test_Rep2 | Rep1 | Rep2 | Rep_mean | Rep_SDev | GeneNumber | \n",
       "|---|---|---|---|---|---|\n",
       "| orf19.7402         | 121.077947         | 110.1769589        | 89.128228          | 78.2243756         | -10.9009882        | -10.9038526        | -10.9024204        | 0.001012706        | 1                  | \n",
       "| ntar_939           |   6.317110         |   7.5984110        | 13.793654          | 15.0793977         |   1.2813007        |   1.2857433        |   1.2835220        | 0.001570723        | 2                  | \n",
       "| orf19.5711         |   7.369962         |   8.5482123        |  6.366302          |  7.5396989         |   1.1782503        |   1.1733968        |   1.1758236        | 0.001715966        | 3                  | \n",
       "| orf19.6525         |  34.744107         |  40.8414589        | 29.709409          | 35.8135696         |   6.0973523        |   6.1041602        |   6.1007562        | 0.002406937        | 4                  | \n",
       "| NOVEL-Ca21chr2-014 |   0.000000         |   0.9498014        |  0.000000          |  0.9424624         |   0.9498014        |   0.9424624        |   0.9461319        | 0.002594733        | 5                  | \n",
       "| NOVEL-Ca21chr6-030 |   0.000000         |   0.9498014        |  0.000000          |  0.9424624         |   0.9498014        |   0.9424624        |   0.9461319        | 0.002594733        | 6                  | \n",
       "\n",
       "\n"
      ],
      "text/plain": [
       "  Gene               Control_Rep1 Test_Rep1   Control_Rep2 Test_Rep2 \n",
       "1 orf19.7402         121.077947   110.1769589 89.128228    78.2243756\n",
       "2 ntar_939             6.317110     7.5984110 13.793654    15.0793977\n",
       "3 orf19.5711           7.369962     8.5482123  6.366302     7.5396989\n",
       "4 orf19.6525          34.744107    40.8414589 29.709409    35.8135696\n",
       "5 NOVEL-Ca21chr2-014   0.000000     0.9498014  0.000000     0.9424624\n",
       "6 NOVEL-Ca21chr6-030   0.000000     0.9498014  0.000000     0.9424624\n",
       "  Rep1        Rep2        Rep_mean    Rep_SDev    GeneNumber\n",
       "1 -10.9009882 -10.9038526 -10.9024204 0.001012706 1         \n",
       "2   1.2813007   1.2857433   1.2835220 0.001570723 2         \n",
       "3   1.1782503   1.1733968   1.1758236 0.001715966 3         \n",
       "4   6.0973523   6.1041602   6.1007562 0.002406937 4         \n",
       "5   0.9498014   0.9424624   0.9461319 0.002594733 5         \n",
       "6   0.9498014   0.9424624   0.9461319 0.002594733 6         "
      ]
     },
     "metadata": {},
     "output_type": "display_data"
    }
   ],
   "source": [
    "# Let's organize this datasheet a little futher, and re-number the number of genes accordingly\n",
    "\n",
    "library(\"tidyverse\") # We will need this package to use the filter function\n",
    "\n",
    "CAY540_Positive = CAY540_Positive %>% arrange(Rep_SDev) # orders your data by standard deviation, updates dataset\n",
    "CAY540_Positive = CAY540_Positive %>% filter(Rep_SDev < 1) # removes genes with an SDev higher than 1 (not informative), updates dataset\n",
    "\n",
    "CAY540_Positive$GeneNumber <- 1:nrow(CAY540_Positive) # Creates column for Gene number\n",
    "print(\"genes with a result that isn't 0:\")\n",
    "max(CAY540_Positive$GeneNumber) # 1000 genes with a positive result and SDev > 1\n",
    "print(\"number of unique genes:\")\n",
    "length(unique(CAY540_Positive$Gene)) # validate check that each is a unique gene\n",
    "\n",
    "head(CAY540_Positive)\n",
    "\n",
    "# We can write this as a new .csv if we want (check folder to see it worked)\n",
    "write.csv(CAY540_Positive, file = \"CAY540_Positive.csv\") # Note that you can see this folder on your personal computer or through your browser"
   ]
  },
  {
   "cell_type": "code",
   "execution_count": 11,
   "metadata": {},
   "outputs": [
    {
     "name": "stdout",
     "output_type": "stream",
     "text": [
      "[1] \"number of ntar genes:\"\n"
     ]
    },
    {
     "data": {
      "text/html": [
       "161"
      ],
      "text/latex": [
       "161"
      ],
      "text/markdown": [
       "161"
      ],
      "text/plain": [
       "[1] 161"
      ]
     },
     "metadata": {},
     "output_type": "display_data"
    },
    {
     "data": {
      "text/html": [
       "<table>\n",
       "<thead><tr><th scope=col>Gene</th><th scope=col>Control_Rep1</th><th scope=col>Test_Rep1</th><th scope=col>Control_Rep2</th><th scope=col>Test_Rep2</th><th scope=col>Rep1</th><th scope=col>Rep2</th><th scope=col>Rep_mean</th><th scope=col>Rep_SDev</th><th scope=col>GeneNumber</th></tr></thead>\n",
       "<tbody>\n",
       "\t<tr><td>ntar_939   </td><td>6.317110   </td><td>7.5984110  </td><td>13.79365   </td><td>15.0793977 </td><td> 1.2813007 </td><td> 1.2857433 </td><td> 1.2835220 </td><td>0.001570723</td><td> 2         </td></tr>\n",
       "\t<tr><td>ntar_1373  </td><td>0.000000   </td><td>0.9498014  </td><td> 0.00000   </td><td> 0.9424624 </td><td> 0.9498014 </td><td> 0.9424624 </td><td> 0.9461319 </td><td>0.002594733</td><td> 7         </td></tr>\n",
       "\t<tr><td>ntar_1396  </td><td>0.000000   </td><td>0.9498014  </td><td> 0.00000   </td><td> 0.9424624 </td><td> 0.9498014 </td><td> 0.9424624 </td><td> 0.9461319 </td><td>0.002594733</td><td> 8         </td></tr>\n",
       "\t<tr><td>ntar_827   </td><td>0.000000   </td><td>0.9498014  </td><td> 0.00000   </td><td> 0.9424624 </td><td> 0.9498014 </td><td> 0.9424624 </td><td> 0.9461319 </td><td>0.002594733</td><td> 9         </td></tr>\n",
       "\t<tr><td>ntar_941   </td><td>0.000000   </td><td>0.9498014  </td><td> 0.00000   </td><td> 0.9424624 </td><td> 0.9498014 </td><td> 0.9424624 </td><td> 0.9461319 </td><td>0.002594733</td><td>10         </td></tr>\n",
       "\t<tr><td>ntar_1421  </td><td>1.052852   </td><td>0.0000000  </td><td> 1.06105   </td><td> 0.0000000 </td><td>-1.0528517 </td><td>-1.0610503 </td><td>-1.0569510 </td><td>0.002898650</td><td>14         </td></tr>\n",
       "</tbody>\n",
       "</table>\n"
      ],
      "text/latex": [
       "\\begin{tabular}{r|llllllllll}\n",
       " Gene & Control\\_Rep1 & Test\\_Rep1 & Control\\_Rep2 & Test\\_Rep2 & Rep1 & Rep2 & Rep\\_mean & Rep\\_SDev & GeneNumber\\\\\n",
       "\\hline\n",
       "\t ntar\\_939  & 6.317110    & 7.5984110   & 13.79365    & 15.0793977  &  1.2813007  &  1.2857433  &  1.2835220  & 0.001570723 &  2         \\\\\n",
       "\t ntar\\_1373 & 0.000000    & 0.9498014   &  0.00000    &  0.9424624  &  0.9498014  &  0.9424624  &  0.9461319  & 0.002594733 &  7         \\\\\n",
       "\t ntar\\_1396 & 0.000000    & 0.9498014   &  0.00000    &  0.9424624  &  0.9498014  &  0.9424624  &  0.9461319  & 0.002594733 &  8         \\\\\n",
       "\t ntar\\_827  & 0.000000    & 0.9498014   &  0.00000    &  0.9424624  &  0.9498014  &  0.9424624  &  0.9461319  & 0.002594733 &  9         \\\\\n",
       "\t ntar\\_941  & 0.000000    & 0.9498014   &  0.00000    &  0.9424624  &  0.9498014  &  0.9424624  &  0.9461319  & 0.002594733 & 10         \\\\\n",
       "\t ntar\\_1421 & 1.052852    & 0.0000000   &  1.06105    &  0.0000000  & -1.0528517  & -1.0610503  & -1.0569510  & 0.002898650 & 14         \\\\\n",
       "\\end{tabular}\n"
      ],
      "text/markdown": [
       "\n",
       "Gene | Control_Rep1 | Test_Rep1 | Control_Rep2 | Test_Rep2 | Rep1 | Rep2 | Rep_mean | Rep_SDev | GeneNumber | \n",
       "|---|---|---|---|---|---|\n",
       "| ntar_939    | 6.317110    | 7.5984110   | 13.79365    | 15.0793977  |  1.2813007  |  1.2857433  |  1.2835220  | 0.001570723 |  2          | \n",
       "| ntar_1373   | 0.000000    | 0.9498014   |  0.00000    |  0.9424624  |  0.9498014  |  0.9424624  |  0.9461319  | 0.002594733 |  7          | \n",
       "| ntar_1396   | 0.000000    | 0.9498014   |  0.00000    |  0.9424624  |  0.9498014  |  0.9424624  |  0.9461319  | 0.002594733 |  8          | \n",
       "| ntar_827    | 0.000000    | 0.9498014   |  0.00000    |  0.9424624  |  0.9498014  |  0.9424624  |  0.9461319  | 0.002594733 |  9          | \n",
       "| ntar_941    | 0.000000    | 0.9498014   |  0.00000    |  0.9424624  |  0.9498014  |  0.9424624  |  0.9461319  | 0.002594733 | 10          | \n",
       "| ntar_1421   | 1.052852    | 0.0000000   |  1.06105    |  0.0000000  | -1.0528517  | -1.0610503  | -1.0569510  | 0.002898650 | 14          | \n",
       "\n",
       "\n"
      ],
      "text/plain": [
       "  Gene      Control_Rep1 Test_Rep1 Control_Rep2 Test_Rep2  Rep1      \n",
       "1 ntar_939  6.317110     7.5984110 13.79365     15.0793977  1.2813007\n",
       "2 ntar_1373 0.000000     0.9498014  0.00000      0.9424624  0.9498014\n",
       "3 ntar_1396 0.000000     0.9498014  0.00000      0.9424624  0.9498014\n",
       "4 ntar_827  0.000000     0.9498014  0.00000      0.9424624  0.9498014\n",
       "5 ntar_941  0.000000     0.9498014  0.00000      0.9424624  0.9498014\n",
       "6 ntar_1421 1.052852     0.0000000  1.06105      0.0000000 -1.0528517\n",
       "  Rep2       Rep_mean   Rep_SDev    GeneNumber\n",
       "1  1.2857433  1.2835220 0.001570723  2        \n",
       "2  0.9424624  0.9461319 0.002594733  7        \n",
       "3  0.9424624  0.9461319 0.002594733  8        \n",
       "4  0.9424624  0.9461319 0.002594733  9        \n",
       "5  0.9424624  0.9461319 0.002594733 10        \n",
       "6 -1.0610503 -1.0569510 0.002898650 14        "
      ]
     },
     "metadata": {},
     "output_type": "display_data"
    },
    {
     "name": "stdout",
     "output_type": "stream",
     "text": [
      "[1] \"Recap\"\n",
      "[1] \"Master merged dataset of CAY540 replicates\"\n"
     ]
    },
    {
     "data": {
      "text/html": [
       "<table>\n",
       "<thead><tr><th scope=col>Gene</th><th scope=col>Control_Rep1</th><th scope=col>Test_Rep1</th><th scope=col>Control_Rep2</th><th scope=col>Test_Rep2</th></tr></thead>\n",
       "<tbody>\n",
       "\t<tr><td>ERCC-00002</td><td>0         </td><td>0         </td><td>0         </td><td>0         </td></tr>\n",
       "\t<tr><td>ERCC-00003</td><td>0         </td><td>0         </td><td>0         </td><td>0         </td></tr>\n",
       "\t<tr><td>ERCC-00004</td><td>0         </td><td>0         </td><td>0         </td><td>0         </td></tr>\n",
       "\t<tr><td>ERCC-00009</td><td>0         </td><td>0         </td><td>0         </td><td>0         </td></tr>\n",
       "\t<tr><td>ERCC-00012</td><td>0         </td><td>0         </td><td>0         </td><td>0         </td></tr>\n",
       "\t<tr><td>ERCC-00013</td><td>0         </td><td>0         </td><td>0         </td><td>0         </td></tr>\n",
       "</tbody>\n",
       "</table>\n"
      ],
      "text/latex": [
       "\\begin{tabular}{r|lllll}\n",
       " Gene & Control\\_Rep1 & Test\\_Rep1 & Control\\_Rep2 & Test\\_Rep2\\\\\n",
       "\\hline\n",
       "\t ERCC-00002 & 0          & 0          & 0          & 0         \\\\\n",
       "\t ERCC-00003 & 0          & 0          & 0          & 0         \\\\\n",
       "\t ERCC-00004 & 0          & 0          & 0          & 0         \\\\\n",
       "\t ERCC-00009 & 0          & 0          & 0          & 0         \\\\\n",
       "\t ERCC-00012 & 0          & 0          & 0          & 0         \\\\\n",
       "\t ERCC-00013 & 0          & 0          & 0          & 0         \\\\\n",
       "\\end{tabular}\n"
      ],
      "text/markdown": [
       "\n",
       "Gene | Control_Rep1 | Test_Rep1 | Control_Rep2 | Test_Rep2 | \n",
       "|---|---|---|---|---|---|\n",
       "| ERCC-00002 | 0          | 0          | 0          | 0          | \n",
       "| ERCC-00003 | 0          | 0          | 0          | 0          | \n",
       "| ERCC-00004 | 0          | 0          | 0          | 0          | \n",
       "| ERCC-00009 | 0          | 0          | 0          | 0          | \n",
       "| ERCC-00012 | 0          | 0          | 0          | 0          | \n",
       "| ERCC-00013 | 0          | 0          | 0          | 0          | \n",
       "\n",
       "\n"
      ],
      "text/plain": [
       "  Gene       Control_Rep1 Test_Rep1 Control_Rep2 Test_Rep2\n",
       "1 ERCC-00002 0            0         0            0        \n",
       "2 ERCC-00003 0            0         0            0        \n",
       "3 ERCC-00004 0            0         0            0        \n",
       "4 ERCC-00009 0            0         0            0        \n",
       "5 ERCC-00012 0            0         0            0        \n",
       "6 ERCC-00013 0            0         0            0        "
      ]
     },
     "metadata": {},
     "output_type": "display_data"
    },
    {
     "name": "stdout",
     "output_type": "stream",
     "text": [
      "[1] \"Genes with positive numbers for CAY540 master dataset\"\n"
     ]
    },
    {
     "data": {
      "text/html": [
       "<table>\n",
       "<thead><tr><th scope=col>Gene</th><th scope=col>Control_Rep1</th><th scope=col>Test_Rep1</th><th scope=col>Control_Rep2</th><th scope=col>Test_Rep2</th><th scope=col>Rep1</th><th scope=col>Rep2</th><th scope=col>Rep_mean</th><th scope=col>Rep_SDev</th><th scope=col>GeneNumber</th></tr></thead>\n",
       "<tbody>\n",
       "\t<tr><td>orf19.7402        </td><td>121.077947        </td><td>110.1769589       </td><td>89.128228         </td><td>78.2243756        </td><td>-10.9009882       </td><td>-10.9038526       </td><td>-10.9024204       </td><td>0.001012706       </td><td>1                 </td></tr>\n",
       "\t<tr><td>ntar_939          </td><td>  6.317110        </td><td>  7.5984110       </td><td>13.793654         </td><td>15.0793977        </td><td>  1.2813007       </td><td>  1.2857433       </td><td>  1.2835220       </td><td>0.001570723       </td><td>2                 </td></tr>\n",
       "\t<tr><td>orf19.5711        </td><td>  7.369962        </td><td>  8.5482123       </td><td> 6.366302         </td><td> 7.5396989        </td><td>  1.1782503       </td><td>  1.1733968       </td><td>  1.1758236       </td><td>0.001715966       </td><td>3                 </td></tr>\n",
       "\t<tr><td>orf19.6525        </td><td> 34.744107        </td><td> 40.8414589       </td><td>29.709409         </td><td>35.8135696        </td><td>  6.0973523       </td><td>  6.1041602       </td><td>  6.1007562       </td><td>0.002406937       </td><td>4                 </td></tr>\n",
       "\t<tr><td>NOVEL-Ca21chr2-014</td><td>  0.000000        </td><td>  0.9498014       </td><td> 0.000000         </td><td> 0.9424624        </td><td>  0.9498014       </td><td>  0.9424624       </td><td>  0.9461319       </td><td>0.002594733       </td><td>5                 </td></tr>\n",
       "\t<tr><td>NOVEL-Ca21chr6-030</td><td>  0.000000        </td><td>  0.9498014       </td><td> 0.000000         </td><td> 0.9424624        </td><td>  0.9498014       </td><td>  0.9424624       </td><td>  0.9461319       </td><td>0.002594733       </td><td>6                 </td></tr>\n",
       "</tbody>\n",
       "</table>\n"
      ],
      "text/latex": [
       "\\begin{tabular}{r|llllllllll}\n",
       " Gene & Control\\_Rep1 & Test\\_Rep1 & Control\\_Rep2 & Test\\_Rep2 & Rep1 & Rep2 & Rep\\_mean & Rep\\_SDev & GeneNumber\\\\\n",
       "\\hline\n",
       "\t orf19.7402         & 121.077947         & 110.1769589        & 89.128228          & 78.2243756         & -10.9009882        & -10.9038526        & -10.9024204        & 0.001012706        & 1                 \\\\\n",
       "\t ntar\\_939           &   6.317110           &   7.5984110          & 13.793654            & 15.0793977           &   1.2813007          &   1.2857433          &   1.2835220          & 0.001570723          & 2                   \\\\\n",
       "\t orf19.5711         &   7.369962         &   8.5482123        &  6.366302          &  7.5396989         &   1.1782503        &   1.1733968        &   1.1758236        & 0.001715966        & 3                 \\\\\n",
       "\t orf19.6525         &  34.744107         &  40.8414589        & 29.709409          & 35.8135696         &   6.0973523        &   6.1041602        &   6.1007562        & 0.002406937        & 4                 \\\\\n",
       "\t NOVEL-Ca21chr2-014 &   0.000000         &   0.9498014        &  0.000000          &  0.9424624         &   0.9498014        &   0.9424624        &   0.9461319        & 0.002594733        & 5                 \\\\\n",
       "\t NOVEL-Ca21chr6-030 &   0.000000         &   0.9498014        &  0.000000          &  0.9424624         &   0.9498014        &   0.9424624        &   0.9461319        & 0.002594733        & 6                 \\\\\n",
       "\\end{tabular}\n"
      ],
      "text/markdown": [
       "\n",
       "Gene | Control_Rep1 | Test_Rep1 | Control_Rep2 | Test_Rep2 | Rep1 | Rep2 | Rep_mean | Rep_SDev | GeneNumber | \n",
       "|---|---|---|---|---|---|\n",
       "| orf19.7402         | 121.077947         | 110.1769589        | 89.128228          | 78.2243756         | -10.9009882        | -10.9038526        | -10.9024204        | 0.001012706        | 1                  | \n",
       "| ntar_939           |   6.317110         |   7.5984110        | 13.793654          | 15.0793977         |   1.2813007        |   1.2857433        |   1.2835220        | 0.001570723        | 2                  | \n",
       "| orf19.5711         |   7.369962         |   8.5482123        |  6.366302          |  7.5396989         |   1.1782503        |   1.1733968        |   1.1758236        | 0.001715966        | 3                  | \n",
       "| orf19.6525         |  34.744107         |  40.8414589        | 29.709409          | 35.8135696         |   6.0973523        |   6.1041602        |   6.1007562        | 0.002406937        | 4                  | \n",
       "| NOVEL-Ca21chr2-014 |   0.000000         |   0.9498014        |  0.000000          |  0.9424624         |   0.9498014        |   0.9424624        |   0.9461319        | 0.002594733        | 5                  | \n",
       "| NOVEL-Ca21chr6-030 |   0.000000         |   0.9498014        |  0.000000          |  0.9424624         |   0.9498014        |   0.9424624        |   0.9461319        | 0.002594733        | 6                  | \n",
       "\n",
       "\n"
      ],
      "text/plain": [
       "  Gene               Control_Rep1 Test_Rep1   Control_Rep2 Test_Rep2 \n",
       "1 orf19.7402         121.077947   110.1769589 89.128228    78.2243756\n",
       "2 ntar_939             6.317110     7.5984110 13.793654    15.0793977\n",
       "3 orf19.5711           7.369962     8.5482123  6.366302     7.5396989\n",
       "4 orf19.6525          34.744107    40.8414589 29.709409    35.8135696\n",
       "5 NOVEL-Ca21chr2-014   0.000000     0.9498014  0.000000     0.9424624\n",
       "6 NOVEL-Ca21chr6-030   0.000000     0.9498014  0.000000     0.9424624\n",
       "  Rep1        Rep2        Rep_mean    Rep_SDev    GeneNumber\n",
       "1 -10.9009882 -10.9038526 -10.9024204 0.001012706 1         \n",
       "2   1.2813007   1.2857433   1.2835220 0.001570723 2         \n",
       "3   1.1782503   1.1733968   1.1758236 0.001715966 3         \n",
       "4   6.0973523   6.1041602   6.1007562 0.002406937 4         \n",
       "5   0.9498014   0.9424624   0.9461319 0.002594733 5         \n",
       "6   0.9498014   0.9424624   0.9461319 0.002594733 6         "
      ]
     },
     "metadata": {},
     "output_type": "display_data"
    },
    {
     "name": "stdout",
     "output_type": "stream",
     "text": [
      "[1] \"Genes with positive numbers for CAY540 master dataset, ntar genes only\"\n"
     ]
    },
    {
     "data": {
      "text/html": [
       "<table>\n",
       "<thead><tr><th scope=col>Gene</th><th scope=col>Control_Rep1</th><th scope=col>Test_Rep1</th><th scope=col>Control_Rep2</th><th scope=col>Test_Rep2</th><th scope=col>Rep1</th><th scope=col>Rep2</th><th scope=col>Rep_mean</th><th scope=col>Rep_SDev</th><th scope=col>GeneNumber</th></tr></thead>\n",
       "<tbody>\n",
       "\t<tr><td>ntar_939   </td><td>6.317110   </td><td>7.5984110  </td><td>13.79365   </td><td>15.0793977 </td><td> 1.2813007 </td><td> 1.2857433 </td><td> 1.2835220 </td><td>0.001570723</td><td> 2         </td></tr>\n",
       "\t<tr><td>ntar_1373  </td><td>0.000000   </td><td>0.9498014  </td><td> 0.00000   </td><td> 0.9424624 </td><td> 0.9498014 </td><td> 0.9424624 </td><td> 0.9461319 </td><td>0.002594733</td><td> 7         </td></tr>\n",
       "\t<tr><td>ntar_1396  </td><td>0.000000   </td><td>0.9498014  </td><td> 0.00000   </td><td> 0.9424624 </td><td> 0.9498014 </td><td> 0.9424624 </td><td> 0.9461319 </td><td>0.002594733</td><td> 8         </td></tr>\n",
       "\t<tr><td>ntar_827   </td><td>0.000000   </td><td>0.9498014  </td><td> 0.00000   </td><td> 0.9424624 </td><td> 0.9498014 </td><td> 0.9424624 </td><td> 0.9461319 </td><td>0.002594733</td><td> 9         </td></tr>\n",
       "\t<tr><td>ntar_941   </td><td>0.000000   </td><td>0.9498014  </td><td> 0.00000   </td><td> 0.9424624 </td><td> 0.9498014 </td><td> 0.9424624 </td><td> 0.9461319 </td><td>0.002594733</td><td>10         </td></tr>\n",
       "\t<tr><td>ntar_1421  </td><td>1.052852   </td><td>0.0000000  </td><td> 1.06105   </td><td> 0.0000000 </td><td>-1.0528517 </td><td>-1.0610503 </td><td>-1.0569510 </td><td>0.002898650</td><td>14         </td></tr>\n",
       "</tbody>\n",
       "</table>\n"
      ],
      "text/latex": [
       "\\begin{tabular}{r|llllllllll}\n",
       " Gene & Control\\_Rep1 & Test\\_Rep1 & Control\\_Rep2 & Test\\_Rep2 & Rep1 & Rep2 & Rep\\_mean & Rep\\_SDev & GeneNumber\\\\\n",
       "\\hline\n",
       "\t ntar\\_939  & 6.317110    & 7.5984110   & 13.79365    & 15.0793977  &  1.2813007  &  1.2857433  &  1.2835220  & 0.001570723 &  2         \\\\\n",
       "\t ntar\\_1373 & 0.000000    & 0.9498014   &  0.00000    &  0.9424624  &  0.9498014  &  0.9424624  &  0.9461319  & 0.002594733 &  7         \\\\\n",
       "\t ntar\\_1396 & 0.000000    & 0.9498014   &  0.00000    &  0.9424624  &  0.9498014  &  0.9424624  &  0.9461319  & 0.002594733 &  8         \\\\\n",
       "\t ntar\\_827  & 0.000000    & 0.9498014   &  0.00000    &  0.9424624  &  0.9498014  &  0.9424624  &  0.9461319  & 0.002594733 &  9         \\\\\n",
       "\t ntar\\_941  & 0.000000    & 0.9498014   &  0.00000    &  0.9424624  &  0.9498014  &  0.9424624  &  0.9461319  & 0.002594733 & 10         \\\\\n",
       "\t ntar\\_1421 & 1.052852    & 0.0000000   &  1.06105    &  0.0000000  & -1.0528517  & -1.0610503  & -1.0569510  & 0.002898650 & 14         \\\\\n",
       "\\end{tabular}\n"
      ],
      "text/markdown": [
       "\n",
       "Gene | Control_Rep1 | Test_Rep1 | Control_Rep2 | Test_Rep2 | Rep1 | Rep2 | Rep_mean | Rep_SDev | GeneNumber | \n",
       "|---|---|---|---|---|---|\n",
       "| ntar_939    | 6.317110    | 7.5984110   | 13.79365    | 15.0793977  |  1.2813007  |  1.2857433  |  1.2835220  | 0.001570723 |  2          | \n",
       "| ntar_1373   | 0.000000    | 0.9498014   |  0.00000    |  0.9424624  |  0.9498014  |  0.9424624  |  0.9461319  | 0.002594733 |  7          | \n",
       "| ntar_1396   | 0.000000    | 0.9498014   |  0.00000    |  0.9424624  |  0.9498014  |  0.9424624  |  0.9461319  | 0.002594733 |  8          | \n",
       "| ntar_827    | 0.000000    | 0.9498014   |  0.00000    |  0.9424624  |  0.9498014  |  0.9424624  |  0.9461319  | 0.002594733 |  9          | \n",
       "| ntar_941    | 0.000000    | 0.9498014   |  0.00000    |  0.9424624  |  0.9498014  |  0.9424624  |  0.9461319  | 0.002594733 | 10          | \n",
       "| ntar_1421   | 1.052852    | 0.0000000   |  1.06105    |  0.0000000  | -1.0528517  | -1.0610503  | -1.0569510  | 0.002898650 | 14          | \n",
       "\n",
       "\n"
      ],
      "text/plain": [
       "  Gene      Control_Rep1 Test_Rep1 Control_Rep2 Test_Rep2  Rep1      \n",
       "1 ntar_939  6.317110     7.5984110 13.79365     15.0793977  1.2813007\n",
       "2 ntar_1373 0.000000     0.9498014  0.00000      0.9424624  0.9498014\n",
       "3 ntar_1396 0.000000     0.9498014  0.00000      0.9424624  0.9498014\n",
       "4 ntar_827  0.000000     0.9498014  0.00000      0.9424624  0.9498014\n",
       "5 ntar_941  0.000000     0.9498014  0.00000      0.9424624  0.9498014\n",
       "6 ntar_1421 1.052852     0.0000000  1.06105      0.0000000 -1.0528517\n",
       "  Rep2       Rep_mean   Rep_SDev    GeneNumber\n",
       "1  1.2857433  1.2835220 0.001570723  2        \n",
       "2  0.9424624  0.9461319 0.002594733  7        \n",
       "3  0.9424624  0.9461319 0.002594733  8        \n",
       "4  0.9424624  0.9461319 0.002594733  9        \n",
       "5  0.9424624  0.9461319 0.002594733 10        \n",
       "6 -1.0610503 -1.0569510 0.002898650 14        "
      ]
     },
     "metadata": {},
     "output_type": "display_data"
    }
   ],
   "source": [
    "# We're interested in ntar genes, so let's subset for that\n",
    "\n",
    "library(dplyr) # We will need this package for grabbing anything with the 'ntar' in the gene title\n",
    "\n",
    "ntar_only = filter(CAY540_Positive, grepl(\"ntar\",Gene)) # This will subset for everything ntar\n",
    "\n",
    "print(\"number of ntar genes:\")\n",
    "length(unique(ntar_only$Gene)) # 161 of our original 1000\n",
    "\n",
    "\n",
    "head(ntar_only) # notice the gene numbers are kept the same as before\n",
    "# we can change this if we want, but let's keep it so we can backtrack if needed\n",
    "\n",
    "write.csv(ntar_only, file = \"CAY540_ntar.csv\") # We should now have 3 .csv files in our folder\n",
    "\n",
    "# Recap\n",
    "print(\"Recap\")\n",
    "print(\"Master merged dataset of CAY540 replicates\")\n",
    "head(CAY540) # Simply merges two replicates by gene name\n",
    "print(\"Genes with positive numbers for CAY540 master dataset\")\n",
    "head(CAY540_Positive) # Genes with a SDev < 1 between control and treatment\n",
    "# Positive may not be the term you want to use. In which case, you can edit to be whatever you want. \n",
    "print(\"Genes with positive numbers for CAY540 master dataset, ntar genes only\")\n",
    "head(ntar_only) # ntar genes with a SDev < 1 between control and treatment"
   ]
  },
  {
   "cell_type": "code",
   "execution_count": 12,
   "metadata": {},
   "outputs": [
    {
     "name": "stdout",
     "output_type": "stream",
     "text": [
      "[1] \"number of ntar genes up- or down- regulated by 10:\"\n"
     ]
    },
    {
     "data": {
      "text/html": [
       "9"
      ],
      "text/latex": [
       "9"
      ],
      "text/markdown": [
       "9"
      ],
      "text/plain": [
       "[1] 9"
      ]
     },
     "metadata": {},
     "output_type": "display_data"
    },
    {
     "data": {
      "text/html": [
       "<table>\n",
       "<thead><tr><th scope=col>Gene</th><th scope=col>Control_Rep1</th><th scope=col>Test_Rep1</th><th scope=col>Control_Rep2</th><th scope=col>Test_Rep2</th><th scope=col>Rep1</th><th scope=col>Rep2</th><th scope=col>Rep_mean</th><th scope=col>Rep_SDev</th><th scope=col>GeneNumber</th></tr></thead>\n",
       "<tbody>\n",
       "\t<tr><td>ntar_274  </td><td> 3.158555 </td><td>19.94583  </td><td>  8.488403</td><td>25.44648  </td><td> 16.78727 </td><td> 16.95808 </td><td> 16.87268 </td><td>0.06038951</td><td>111       </td></tr>\n",
       "\t<tr><td>ntar_52   </td><td> 0.000000 </td><td>22.79523  </td><td> 20.159956</td><td>43.35327  </td><td> 22.79523 </td><td> 23.19331 </td><td> 22.99427 </td><td>0.14074224</td><td>171       </td></tr>\n",
       "\t<tr><td>ntar_970  </td><td>17.898479 </td><td>63.63669  </td><td> 36.075711</td><td>82.93669  </td><td> 45.73821 </td><td> 46.86098 </td><td> 46.29959 </td><td>0.39695680</td><td>521       </td></tr>\n",
       "\t<tr><td>ntar_227  </td><td>90.545247 </td><td>37.99205  </td><td>103.982933</td><td>52.77789  </td><td>-52.55319 </td><td>-51.20504 </td><td>-51.87912 </td><td>0.47664362</td><td>588       </td></tr>\n",
       "\t<tr><td>ntar_63   </td><td>66.329658 </td><td>50.33947  </td><td> 64.724070</td><td>47.12312  </td><td>-15.99019 </td><td>-17.60095 </td><td>-16.79557 </td><td>0.56949221</td><td>629       </td></tr>\n",
       "\t<tr><td>ntar_1157 </td><td>96.862358 </td><td>69.33550  </td><td>112.471336</td><td>86.70654  </td><td>-27.52686 </td><td>-25.76480 </td><td>-26.64583 </td><td>0.62298193</td><td>664       </td></tr>\n",
       "</tbody>\n",
       "</table>\n"
      ],
      "text/latex": [
       "\\begin{tabular}{r|llllllllll}\n",
       " Gene & Control\\_Rep1 & Test\\_Rep1 & Control\\_Rep2 & Test\\_Rep2 & Rep1 & Rep2 & Rep\\_mean & Rep\\_SDev & GeneNumber\\\\\n",
       "\\hline\n",
       "\t ntar\\_274  &  3.158555   & 19.94583    &   8.488403  & 25.44648    &  16.78727   &  16.95808   &  16.87268   & 0.06038951  & 111        \\\\\n",
       "\t ntar\\_52   &  0.000000   & 22.79523    &  20.159956  & 43.35327    &  22.79523   &  23.19331   &  22.99427   & 0.14074224  & 171        \\\\\n",
       "\t ntar\\_970  & 17.898479   & 63.63669    &  36.075711  & 82.93669    &  45.73821   &  46.86098   &  46.29959   & 0.39695680  & 521        \\\\\n",
       "\t ntar\\_227  & 90.545247   & 37.99205    & 103.982933  & 52.77789    & -52.55319   & -51.20504   & -51.87912   & 0.47664362  & 588        \\\\\n",
       "\t ntar\\_63   & 66.329658   & 50.33947    &  64.724070  & 47.12312    & -15.99019   & -17.60095   & -16.79557   & 0.56949221  & 629        \\\\\n",
       "\t ntar\\_1157 & 96.862358   & 69.33550    & 112.471336  & 86.70654    & -27.52686   & -25.76480   & -26.64583   & 0.62298193  & 664        \\\\\n",
       "\\end{tabular}\n"
      ],
      "text/markdown": [
       "\n",
       "Gene | Control_Rep1 | Test_Rep1 | Control_Rep2 | Test_Rep2 | Rep1 | Rep2 | Rep_mean | Rep_SDev | GeneNumber | \n",
       "|---|---|---|---|---|---|\n",
       "| ntar_274   |  3.158555  | 19.94583   |   8.488403 | 25.44648   |  16.78727  |  16.95808  |  16.87268  | 0.06038951 | 111        | \n",
       "| ntar_52    |  0.000000  | 22.79523   |  20.159956 | 43.35327   |  22.79523  |  23.19331  |  22.99427  | 0.14074224 | 171        | \n",
       "| ntar_970   | 17.898479  | 63.63669   |  36.075711 | 82.93669   |  45.73821  |  46.86098  |  46.29959  | 0.39695680 | 521        | \n",
       "| ntar_227   | 90.545247  | 37.99205   | 103.982933 | 52.77789   | -52.55319  | -51.20504  | -51.87912  | 0.47664362 | 588        | \n",
       "| ntar_63    | 66.329658  | 50.33947   |  64.724070 | 47.12312   | -15.99019  | -17.60095  | -16.79557  | 0.56949221 | 629        | \n",
       "| ntar_1157  | 96.862358  | 69.33550   | 112.471336 | 86.70654   | -27.52686  | -25.76480  | -26.64583  | 0.62298193 | 664        | \n",
       "\n",
       "\n"
      ],
      "text/plain": [
       "  Gene      Control_Rep1 Test_Rep1 Control_Rep2 Test_Rep2 Rep1      Rep2     \n",
       "1 ntar_274   3.158555    19.94583    8.488403   25.44648   16.78727  16.95808\n",
       "2 ntar_52    0.000000    22.79523   20.159956   43.35327   22.79523  23.19331\n",
       "3 ntar_970  17.898479    63.63669   36.075711   82.93669   45.73821  46.86098\n",
       "4 ntar_227  90.545247    37.99205  103.982933   52.77789  -52.55319 -51.20504\n",
       "5 ntar_63   66.329658    50.33947   64.724070   47.12312  -15.99019 -17.60095\n",
       "6 ntar_1157 96.862358    69.33550  112.471336   86.70654  -27.52686 -25.76480\n",
       "  Rep_mean  Rep_SDev   GeneNumber\n",
       "1  16.87268 0.06038951 111       \n",
       "2  22.99427 0.14074224 171       \n",
       "3  46.29959 0.39695680 521       \n",
       "4 -51.87912 0.47664362 588       \n",
       "5 -16.79557 0.56949221 629       \n",
       "6 -26.64583 0.62298193 664       "
      ]
     },
     "metadata": {},
     "output_type": "display_data"
    }
   ],
   "source": [
    "# For simplicity, let's focus on the ntar genes with a value of greater than 10 (for up- or down- regulation) \n",
    "\n",
    "High_ntar = ntar_only %>% filter(Rep_mean > 9.99 | Rep_mean < -9.99)\n",
    "\n",
    "print(\"number of ntar genes up- or down- regulated by 10:\")\n",
    "length(unique(High_ntar$Gene)) # 9 of 161 ntar, out of our original 1000 with SDev < 1\n",
    "\n",
    "head(High_ntar)"
   ]
  },
  {
   "cell_type": "code",
   "execution_count": 13,
   "metadata": {},
   "outputs": [],
   "source": [
    "# Recap: How much time would we estimate this would've taken us to make in Excel?"
   ]
  },
  {
   "cell_type": "code",
   "execution_count": 14,
   "metadata": {},
   "outputs": [
    {
     "data": {},
     "metadata": {},
     "output_type": "display_data"
    },
    {
     "data": {
      "image/png": "[encoded data removed]",
      "text/plain": [
       "plot without title"
      ]
     },
     "metadata": {},
     "output_type": "display_data"
    }
   ],
   "source": [
    "# iii. Produce a bar chart of up- and down- regulated ntar genes\n",
    "\n",
    "# Let's make a bar chart of the ntars that shows their mean values and standard deviation \n",
    "library(ggplot2) # We'll need this package to create the graph\n",
    "\n",
    "# Creates plot\n",
    "ntars = ggplot(High_ntar, aes(x=Gene, y=Rep_mean, fill = Rep_mean < 0)) + # data set, x and y axes, assign color to up- or down-\n",
    "geom_bar(stat=\"identity\", color=\"black\", position=position_dodge()) + # bar chart style\n",
    "  geom_errorbar(aes(ymin=Rep_mean-Rep_SDev, ymax=Rep_mean+Rep_SDev), width=.2, # add error bar\n",
    "                 position=position_dodge(.9)) \n",
    "\n",
    "ntars # plot"
   ]
  },
  {
   "cell_type": "code",
   "execution_count": 15,
   "metadata": {},
   "outputs": [
    {
     "data": {},
     "metadata": {},
     "output_type": "display_data"
    },
    {
     "name": "stderr",
     "output_type": "stream",
     "text": [
      "Saving 7 x 7 in image\n"
     ]
    },
    {
     "data": {
      "image/png": "[encoded data removed]",
      "text/plain": [
       "plot without title"
      ]
     },
     "metadata": {},
     "output_type": "display_data"
    }
   ],
   "source": [
    "# iv. Modify visualization of the bar chart, and save\n",
    "\n",
    "# How can we improve the quality of this graph?\n",
    "ntar_barchart = ntars + \n",
    "scale_fill_discrete(name  =\"Expression\", # Label legend\n",
    "                            breaks=c(\"FALSE\", \"TRUE\"),\n",
    "                            labels=c(\"Up-regulated\", \"Down-regulated\")) + # Rename values in legend\n",
    "labs(title=\"Differential expression of ntars (10+) for Austin's RNA-Seq data\", # Label graph\n",
    "     x=\"Gene name\", y = \"Replicate mean and standard deviation (Treatment - Control)\") + # Label axes\n",
    "theme_classic() # Change style\n",
    "\n",
    "ntar_barchart # View chart\n",
    "ggsave(\"High_ntar_barchart.png\", dpi = 800) # Save as a figure in your folder with dpi of 800 "
   ]
  },
  {
   "cell_type": "code",
   "execution_count": 16,
   "metadata": {},
   "outputs": [],
   "source": [
    "# That may have taken some time to go through step-by-step, but now you have this automated set-up which takes a matter of minutes produce\n",
    "# Much faster than Excel!\n",
    "\n",
    "# Time Point 3 (5 min): How might we interpret these results, and what could we still adjust? \n",
    "# https://github.com/sabahzero/Lesson-Plan_RNA-Seq"
   ]
  }
 ],
 "metadata": {
  "kernelspec": {
   "display_name": "R",
   "language": "R",
   "name": "ir"
  },
  "language_info": {
   "codemirror_mode": "r",
   "file_extension": ".r",
   "mimetype": "text/x-r-source",
   "name": "R",
   "pygments_lexer": "r",
   "version": "3.5.1"
  }
 },
 "nbformat": 4,
 "nbformat_minor": 2
}
